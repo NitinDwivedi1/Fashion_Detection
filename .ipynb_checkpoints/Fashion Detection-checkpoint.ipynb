{
 "cells": [
  {
   "cell_type": "markdown",
   "metadata": {
    "id": "MM-ePp1yT8e2"
   },
   "source": [
    "# Fashion Detection"
   ]
  },
  {
   "cell_type": "markdown",
   "metadata": {},
   "source": [
    "### Dataset used: https://github.com/seralexger/clothing-detection-dataset"
   ]
  },
  {
   "cell_type": "code",
   "execution_count": null,
   "metadata": {},
   "outputs": [],
   "source": [
    "# Dataset contains images and annotations for each image in separate json file."
   ]
  },
  {
   "cell_type": "code",
   "execution_count": null,
   "metadata": {},
   "outputs": [],
   "source": [
    "# Json file structure example:\n",
    "# {\n",
    "#     \"arr_boxes\": [\n",
    "#         {\n",
    "#             \"x\": 221.32390916347504,\n",
    "#             \"y\": 624.6319770812988,\n",
    "#             \"width\": 78.0220752954483,\n",
    "#             \"height\": 43.4633731842041,\n",
    "#             \"genre\": \"mujer\",\n",
    "#             \"class\": \"gafas de sol\"\n",
    "#         },\n",
    "#         {\n",
    "#             \"x\": 345.8838129043579,\n",
    "#             \"y\": 650.0715896487236,\n",
    "#             \"width\": 80.0260877609253,\n",
    "#             \"height\": 46.52789086103439,\n",
    "#             \"genre\": \"mujer\",\n",
    "#             \"class\": \"gafas de sol\"\n",
    "#         },\n",
    "#         {\n",
    "#             \"x\": 462.4635708332062,\n",
    "#             \"y\": 643.2647868990898,\n",
    "#             \"width\": 80.10356068611145,\n",
    "#             \"height\": 51.223500072956085,\n",
    "#             \"genre\": \"mujer\",\n",
    "#             \"class\": \"gafas de sol\"\n",
    "#         },\n",
    "#         {\n",
    "#             \"x\": 248.01238238811493,\n",
    "#             \"y\": 1268.1888163089752,\n",
    "#             \"width\": 122.82929956912994,\n",
    "#             \"height\": 67.63978600502014,\n",
    "#             \"genre\": \"mujer\",\n",
    "#             \"class\": \"zapatos\"\n",
    "#         },\n",
    "#         {\n",
    "#             \"x\": 498.22065711021423,\n",
    "#             \"y\": 1232.948613166809,\n",
    "#             \"width\": 101.950603723526,\n",
    "#             \"height\": 85.60903072357178,\n",
    "#             \"genre\": \"mujer\",\n",
    "#             \"class\": \"zapatos\"\n",
    "#         },\n",
    "#         {\n",
    "#             \"x\": 296.8093013763428,\n",
    "#             \"y\": 697.8735029697418,\n",
    "#             \"width\": 186.79794073104858,\n",
    "#             \"height\": 238.04175853729248,\n",
    "#             \"genre\": \"mujer\",\n",
    "#             \"class\": \"camisas\"\n",
    "#         },\n",
    "#         {\n",
    "#             \"x\": 172.84747123718262,\n",
    "#             \"y\": 697.6209998130798,\n",
    "#             \"width\": 186.8482804298401,\n",
    "#             \"height\": 239.25325870513916,\n",
    "#             \"genre\": \"mujer\",\n",
    "#             \"class\": \"chaquetas\"\n",
    "#         },\n",
    "#         {\n",
    "#             \"x\": 301.18216037750244,\n",
    "#             \"y\": 921.2495595216751,\n",
    "#             \"width\": 160.36638021469116,\n",
    "#             \"height\": 308.5134744644165,\n",
    "#             \"genre\": \"mujer\",\n",
    "#             \"class\": \"pantalones\"\n",
    "#         },\n",
    "#         {\n",
    "#             \"x\": 484.19432401657104,\n",
    "#             \"y\": 920.1821744441986,\n",
    "#             \"width\": 218.4789276123047,\n",
    "#             \"height\": 296.2758421897888,\n",
    "#             \"genre\": \"mujer\",\n",
    "#             \"class\": \"falda\"\n",
    "#         },\n",
    "#         {\n",
    "#             \"x\": 448.34460496902466,\n",
    "#             \"y\": 699.9615222215652,\n",
    "#             \"width\": 213.53031635284424,\n",
    "#             \"height\": 305.36177158355713,\n",
    "#             \"genre\": \"mujer\",\n",
    "#             \"class\": \"chaquetas\"\n",
    "#         }\n",
    "#     ],\n",
    "#     \"file_name\": \"df5wx01jni2eac5fk8039f1zf0xzxe2vdehgoo9ai1dh1pgl80iy55xs2uwn59w9.jpg\"\n",
    "# }"
   ]
  },
  {
   "cell_type": "code",
   "execution_count": null,
   "metadata": {},
   "outputs": [],
   "source": [
    "# I will be using Detectron2 pretrained model to predict the class of clothes."
   ]
  },
  {
   "cell_type": "code",
   "execution_count": null,
   "metadata": {
    "colab": {
     "base_uri": "https://localhost:8080/"
    },
    "id": "6pjRZdeiYPPI",
    "outputId": "16c8ff02-22db-4271-f0bf-091fbfcac119"
   },
   "outputs": [],
   "source": [
    "# !pip install pyyaml==5.1\n",
    "# !pip install torch==1.8.0+cu101 torchvision==0.9.0+cu101 -f https://download.pytorch.org/whl/torch_stable.html"
   ]
  },
  {
   "cell_type": "markdown",
   "metadata": {
    "id": "YTV4jWZMYMlu"
   },
   "source": [
    "### Installing Detectron2 on Colab"
   ]
  },
  {
   "cell_type": "code",
   "execution_count": null,
   "metadata": {
    "colab": {
     "base_uri": "https://localhost:8080/",
     "height": 1000
    },
    "id": "HpUGHZuwYZvS",
    "outputId": "fb7f10d3-237d-4ebf-e264-c7710bb6c6d0"
   },
   "outputs": [],
   "source": [
    "# !pip install detectron2 -f https://dl.fbaipublicfiles.com/detectron2/wheels/cu101/torch1.8/index.html\n",
    "# After this step it will ask to restart the runtime, do it."
   ]
  },
  {
   "cell_type": "code",
   "execution_count": null,
   "metadata": {
    "id": "KGheWs13YoM9"
   },
   "outputs": [],
   "source": [
    "import torch\n",
    "# assert torch.__version__.startswith(\"1.8\") \n",
    "import torchvision\n",
    "import cv2"
   ]
  },
  {
   "cell_type": "markdown",
   "metadata": {
    "id": "03jcsFg9X-9v"
   },
   "source": [
    "### Register the data to Detectron2 config"
   ]
  },
  {
   "cell_type": "code",
   "execution_count": null,
   "metadata": {
    "id": "UPhV9QzOTggW"
   },
   "outputs": [],
   "source": [
    "import os\n",
    "import numpy as np\n",
    "import json\n",
    "import random\n",
    "import matplotlib.pyplot as plt\n",
    "%matplotlib inline\n",
    "\n",
    "from detectron2.structures import BoxMode\n",
    "from detectron2.data import DatasetCatalog, MetadataCatalog"
   ]
  },
  {
   "cell_type": "code",
   "execution_count": null,
   "metadata": {
    "id": "jPDbZ10mTgdf"
   },
   "outputs": [],
   "source": [
    "def get_data_dicts(directory, classes):\n",
    "    dataset_dicts = []\n",
    "    for filename in [file for file in os.listdir(directory) if file.endswith('.json')]:\n",
    "        json_file = os.path.join(directory, filename)\n",
    "        with open(json_file) as f:\n",
    "            img_anns = json.load(f)\n",
    "\n",
    "        record = {}\n",
    "        \n",
    "        filename = os.path.join(directory, img_anns[\"file_name\"])\n",
    "        \n",
    "        record[\"file_name\"] = filename\n",
    "#         record[\"height\"] = 224\n",
    "#         record[\"width\"] = 224\n",
    "      \n",
    "        annos = img_anns[\"arr_boxes\"]\n",
    "        objs = []\n",
    "        for anno in annos:\n",
    "            px = [anno['x']]  # x coord\n",
    "            py = [anno['y']]  # y-coord\n",
    "            poly = [(x, y) for x, y in zip(px, py)] # poly for segmentation\n",
    "            poly = [p for x in poly for p in x]\n",
    "\n",
    "            obj = {\n",
    "                \"bbox\": [np.min(px), np.min(py), np.max(px), np.max(py)],\n",
    "                \"bbox_mode\": BoxMode.XYXY_ABS,\n",
    "                \"segmentation\": [poly],\n",
    "                \"category_id\": classes.index(anno['class']),\n",
    "                \"iscrowd\": 0\n",
    "            }\n",
    "            objs.append(obj)\n",
    "        record[\"annotations\"] = objs\n",
    "        dataset_dicts.append(record)\n",
    "    return dataset_dicts"
   ]
  },
  {
   "cell_type": "markdown",
   "metadata": {},
   "source": [
    "#### Getting number of classes of clothes in our dataset and count of classes"
   ]
  },
  {
   "cell_type": "code",
   "execution_count": null,
   "metadata": {},
   "outputs": [],
   "source": [
    "import glob"
   ]
  },
  {
   "cell_type": "code",
   "execution_count": null,
   "metadata": {},
   "outputs": [],
   "source": [
    "classList = []\n",
    "path = '/content/drive/MyDrive/Dataset/train/'\n",
    "for filename in glob.glob(os.path.join(path, '*.json')): #only process .JSON files in folder.\n",
    "    with open(filename, encoding='utf-8', mode='r') as currentFile:\n",
    "        data=currentFile.read().replace('\\n', '')\n",
    "        keyword = json.loads(data)[\"arr_boxes\"]\n",
    "        for val in keyword:\n",
    "            classname=val[\"class\"]\n",
    "        if classname not in classList:\n",
    "            classList.append(classname)\n",
    "print(classList)\n",
    "print(len(classList))"
   ]
  },
  {
   "cell_type": "code",
   "execution_count": null,
   "metadata": {
    "id": "NGt-e47XTgas"
   },
   "outputs": [],
   "source": [
    "# Registering Dataset\n",
    "classes = ['chaquetas', 'pantalones', 'trajes de baño', 'camisas', 'botas', 'abrigos', 'vestidos', 'bolso', 'zapatos', 'gafas de sol', 'pendientes', 'sombreros', 'ropa interior', 'carteras monederos', 'collares', 'cazadoras', 'monos', 'falda', 'pantalones cortos', 'calcetines y medias', 'undefined', 'relojes', 'pulseras', 'mochilas', 'bufandas', 'cinturones', 'anillos', 'guantes y manopla', 'camisas ocultas debajo de la chaqueta']\n",
    "\n",
    "\n",
    "data_path = '/content/drive/MyDrive/Dataset/'\n",
    "\n",
    "for d in [\"train\", \"test\"]:\n",
    "    DatasetCatalog.register(\n",
    "        \"category_\" + d, \n",
    "        lambda d=d: get_data_dicts(data_path+d, classes)\n",
    "    )\n",
    "    MetadataCatalog.get(\"category_\" + d).set(thing_classes=classes)\n",
    "\n",
    "microcontroller_metadata = MetadataCatalog.get(\"category_train\")"
   ]
  },
  {
   "cell_type": "markdown",
   "metadata": {
    "id": "BUDK8zsnbGG6"
   },
   "source": [
    "### Training the Detectron2 Instance Segmentation Model"
   ]
  },
  {
   "cell_type": "code",
   "execution_count": null,
   "metadata": {
    "id": "Nm3OOWjXTgZZ"
   },
   "outputs": [],
   "source": [
    "from detectron2 import model_zoo\n",
    "from detectron2.engine import DefaultTrainer, DefaultPredictor\n",
    "from detectron2.config import get_cfg\n",
    "from detectron2.utils.visualizer import ColorMode, Visualizer"
   ]
  },
  {
   "cell_type": "code",
   "execution_count": null,
   "metadata": {
    "id": "tZswZczBTgWx"
   },
   "outputs": [],
   "source": [
    "#Configurations\n",
    "cfg = get_cfg()\n",
    "cfg.merge_from_file(model_zoo.get_config_file(\"COCO-InstanceSegmentation/mask_rcnn_R_50_FPN_3x.yaml\"))\n",
    "cfg.DATASETS.TRAIN = (\"category_train\",)\n",
    "cfg.DATASETS.TEST = ()\n",
    "cfg.DATALOADER.NUM_WORKERS = 2\n",
    "cfg.MODEL.WEIGHTS = model_zoo.get_checkpoint_url(\"COCO-InstanceSegmentation/mask_rcnn_R_50_FPN_3x.yaml\")\n",
    "cfg.SOLVER.IMS_PER_BATCH = 2\n",
    "cfg.SOLVER.BASE_LR = 0.00025\n",
    "cfg.SOLVER.MAX_ITER = 1000\n",
    "cfg.MODEL.ROI_HEADS.NUM_CLASSES = 29"
   ]
  },
  {
   "cell_type": "code",
   "execution_count": null,
   "metadata": {
    "colab": {
     "base_uri": "https://localhost:8080/"
    },
    "id": "W4AzNO35bm98",
    "outputId": "a167c2a2-82e2-43c0-c201-74b123983848"
   },
   "outputs": [],
   "source": [
    "os.makedirs(cfg.OUTPUT_DIR, exist_ok=True)\n",
    "# Making Trainer object\n",
    "trainer = DefaultTrainer(cfg) \n",
    "trainer.resume_or_load(resume=False)"
   ]
  },
  {
   "cell_type": "code",
   "execution_count": null,
   "metadata": {
    "colab": {
     "base_uri": "https://localhost:8080/"
    },
    "id": "78RBHG83TgVY",
    "outputId": "e810bce7-7349-4a12-924a-da7d013a903a"
   },
   "outputs": [],
   "source": [
    "# Training the model\n",
    "trainer.train()"
   ]
  },
  {
   "cell_type": "markdown",
   "metadata": {
    "id": "Z4f1Tot2esU-"
   },
   "source": [
    "### Inference using the Trained Model"
   ]
  },
  {
   "cell_type": "code",
   "execution_count": null,
   "metadata": {
    "id": "lqDbn2HedARc"
   },
   "outputs": [],
   "source": [
    "cfg.MODEL.WEIGHTS = os.path.join(cfg.OUTPUT_DIR, \"model_final.pth\")\n",
    "cfg.MODEL.ROI_HEADS.SCORE_THRESH_TEST = 0.5 \n",
    "cfg.DATASETS.TEST = (\"test\", )\n",
    "predictor = DefaultPredictor(cfg)"
   ]
  },
  {
   "cell_type": "code",
   "execution_count": null,
   "metadata": {
    "id": "ggCV9HzMew9V"
   },
   "outputs": [],
   "source": [
    "test_dataset_dicts = get_data_dicts(data_path+'test', classes)"
   ]
  },
  {
   "cell_type": "code",
   "execution_count": null,
   "metadata": {
    "colab": {
     "base_uri": "https://localhost:8080/",
     "height": 1000
    },
    "id": "IHcgGp8Rfy7S",
    "outputId": "e2c54fcb-0b6f-4485-9cce-a0c4d3c1c395"
   },
   "outputs": [],
   "source": [
    "for d in random.sample(test_dataset_dicts, 3):    \n",
    "    img = cv2.imread(d[\"file_name\"])\n",
    "    outputs = predictor(img)\n",
    "    v = Visualizer(img[:, :, ::-1],\n",
    "                   metadata=microcontroller_metadata, \n",
    "                   scale=0.8, \n",
    "                   instance_mode=ColorMode.IMAGE_BW # removes the colors of unsegmented pixels\n",
    "    )\n",
    "    v = v.draw_instance_predictions(outputs[\"instances\"].to(\"cpu\"))\n",
    "    plt.figure(figsize = (14, 10))\n",
    "    plt.imshow(cv2.cvtColor(v.get_image()[:, :, ::-1], cv2.COLOR_BGR2RGB))\n",
    "    plt.show()"
   ]
  },
  {
   "cell_type": "code",
   "execution_count": null,
   "metadata": {
    "id": "dDqreXOkZJIR"
   },
   "outputs": [],
   "source": []
  }
 ],
 "metadata": {
  "accelerator": "GPU",
  "colab": {
   "collapsed_sections": [],
   "name": "Train Detectron2 on custom dataset.ipynb",
   "provenance": []
  },
  "kernelspec": {
   "display_name": "Python 3 (ipykernel)",
   "language": "python",
   "name": "python3"
  },
  "language_info": {
   "codemirror_mode": {
    "name": "ipython",
    "version": 3
   },
   "file_extension": ".py",
   "mimetype": "text/x-python",
   "name": "python",
   "nbconvert_exporter": "python",
   "pygments_lexer": "ipython3",
   "version": "3.9.6"
  }
 },
 "nbformat": 4,
 "nbformat_minor": 1
}
